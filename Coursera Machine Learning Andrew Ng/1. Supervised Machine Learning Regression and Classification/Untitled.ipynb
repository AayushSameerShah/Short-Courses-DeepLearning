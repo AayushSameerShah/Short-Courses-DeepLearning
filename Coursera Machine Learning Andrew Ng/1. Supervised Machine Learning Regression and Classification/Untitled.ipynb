{
 "cells": [
  {
   "cell_type": "code",
   "execution_count": 4,
   "id": "104f19bc-cd19-48ad-97d6-27dc519de133",
   "metadata": {},
   "outputs": [],
   "source": [
    "import matplotlib.pyplot as plt\n",
    "import numpy as np"
   ]
  },
  {
   "cell_type": "code",
   "execution_count": 10,
   "id": "b1200f6b-24bb-4d84-a41a-7098c540cdd2",
   "metadata": {},
   "outputs": [],
   "source": [
    "def sigmoid(ary):\n",
    "    return 1 / (1 + np.exp(-ary))"
   ]
  },
  {
   "cell_type": "code",
   "execution_count": 62,
   "id": "763d7cd7-276c-40a1-b868-cf51db055263",
   "metadata": {},
   "outputs": [
    {
     "data": {
      "text/plain": [
       "2.3025850929940455"
      ]
     },
     "execution_count": 62,
     "metadata": {},
     "output_type": "execute_result"
    }
   ],
   "source": [
    "-np.log(0.1)"
   ]
  }
 ],
 "metadata": {
  "kernelspec": {
   "display_name": "Python 3 (ipykernel)",
   "language": "python",
   "name": "python3"
  },
  "language_info": {
   "codemirror_mode": {
    "name": "ipython",
    "version": 3
   },
   "file_extension": ".py",
   "mimetype": "text/x-python",
   "name": "python",
   "nbconvert_exporter": "python",
   "pygments_lexer": "ipython3",
   "version": "3.11.5"
  }
 },
 "nbformat": 4,
 "nbformat_minor": 5
}
