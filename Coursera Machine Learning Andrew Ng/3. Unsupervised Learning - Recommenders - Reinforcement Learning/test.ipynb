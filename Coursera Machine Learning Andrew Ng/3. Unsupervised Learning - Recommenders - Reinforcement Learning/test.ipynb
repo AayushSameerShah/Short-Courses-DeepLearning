{
 "cells": [
  {
   "cell_type": "code",
   "execution_count": 4,
   "id": "d2a310c7-a9df-4796-bff4-a43321434387",
   "metadata": {},
   "outputs": [],
   "source": [
    "import math\n",
    "import numpy as np\n",
    "import matplotlib.pyplot as plt"
   ]
  },
  {
   "cell_type": "code",
   "execution_count": 10,
   "id": "cd50ea40-9248-4fa1-aaab-18695e3fd777",
   "metadata": {},
   "outputs": [],
   "source": [
    "def normal_distribution_pdf(x, mu, sigma):\n",
    "    exponent = -((x - mu) ** 2) / (2 * sigma ** 2)\n",
    "    pdf = (1 / (np.sqrt(2 * math.pi) * sigma)) * np.exp(exponent)\n",
    "    return pdf"
   ]
  },
  {
   "cell_type": "code",
   "execution_count": 46,
   "id": "4ed0cd46-f5ae-4f9d-b4d4-15674fd73e9c",
   "metadata": {},
   "outputs": [
    {
     "data": {
      "image/png": "[encoded data removed]",
      "text/plain": [
       "<Figure size 640x480 with 1 Axes>"
      ]
     },
     "metadata": {},
     "output_type": "display_data"
    }
   ],
   "source": [
    "x = np.random.randint(0, 100000, 1000)\n",
    "mu = x.mean()\n",
    "sigma = x.std()\n",
    "plt.hist(x, bins=50);"
   ]
  },
  {
   "cell_type": "code",
   "execution_count": 1,
   "id": "06cc219e-5c3f-48a6-a88d-6c3f31a2f5c3",
   "metadata": {},
   "outputs": [],
   "source": [
    "import numpy as np\n",
    "import matplotlib.pyplot as plt"
   ]
  },
  {
   "cell_type": "code",
   "execution_count": 5,
   "id": "8a2dcd17-a579-4d91-a5b5-a8bfb28dbdaa",
   "metadata": {},
   "outputs": [],
   "source": [
    "from sklearn.decomposition import PCA\n"
   ]
  },
  {
   "cell_type": "code",
   "execution_count": 6,
   "id": "36cc63b7-5b8a-4019-aaae-5fa29b27b6fc",
   "metadata": {},
   "outputs": [],
   "source": [
    "pca = PCA(n_components=2)"
   ]
  },
  {
   "cell_type": "code",
   "execution_count": 7,
   "id": "0c73b757-8415-4643-aaa2-2d9983001273",
   "metadata": {},
   "outputs": [],
   "source": [
    "a = [[1,1], [2,1], [3,2],\n",
    "     [-1,-1], [-2,-1], [-3,-2]]"
   ]
  },
  {
   "cell_type": "code",
   "execution_count": 8,
   "id": "f69144a9-7354-49ee-b20e-1aff467f667b",
   "metadata": {},
   "outputs": [
    {
     "data": {
      "text/plain": [
       "array([[ 1.38340578,  0.2935787 ],\n",
       "       [ 2.22189802, -0.25133484],\n",
       "       [ 3.6053038 ,  0.04224385],\n",
       "       [-1.38340578, -0.2935787 ],\n",
       "       [-2.22189802,  0.25133484],\n",
       "       [-3.6053038 , -0.04224385]])"
      ]
     },
     "execution_count": 8,
     "metadata": {},
     "output_type": "execute_result"
    }
   ],
   "source": [
    "pca.fit_transform(a)"
   ]
  },
  {
   "cell_type": "code",
   "execution_count": 9,
   "id": "08719c25-966d-4104-9884-bd78071c41c3",
   "metadata": {},
   "outputs": [
    {
     "data": {
      "text/plain": [
       "array([0.99244289, 0.00755711])"
      ]
     },
     "execution_count": 9,
     "metadata": {},
     "output_type": "execute_result"
    }
   ],
   "source": [
    "pca.explained_variance_ratio_"
   ]
  },
  {
   "cell_type": "code",
   "execution_count": 10,
   "id": "8924e2b2-20bb-48fa-9d12-f204ff1b7c5c",
   "metadata": {},
   "outputs": [],
   "source": [
    "discount_factor = 0.9"
   ]
  },
  {
   "cell_type": "code",
   "execution_count": 13,
   "id": "ccf69785-99c7-4e98-8322-47c36e75caa0",
   "metadata": {},
   "outputs": [
    {
     "data": {
      "text/plain": [
       "-32.47695"
      ]
     },
     "execution_count": 13,
     "metadata": {},
     "output_type": "execute_result"
    }
   ],
   "source": [
    "0.9**5 * -55"
   ]
  },
  {
   "cell_type": "code",
   "execution_count": 21,
   "id": "7540aecf-9213-41eb-b584-394396178a9c",
   "metadata": {},
   "outputs": [],
   "source": [
    "rewards = [100, 0, 0, 0, 0, 40]\n",
    "discount = 0.5"
   ]
  },
  {
   "cell_type": "code",
   "execution_count": 22,
   "id": "df296c41-54aa-4050-8267-81b2577a5801",
   "metadata": {},
   "outputs": [
    {
     "name": "stdout",
     "output_type": "stream",
     "text": [
      "0.5^0*0 + 0.5^1*0 + 0.5^2*0 + 0.5^3*0 + 0.5^4*100 + == 6.25\n",
      "0.5^0*0 + 0.5^1*0 + 0.5^2*0 + 0.5^3*100 + == 12.5\n",
      "0.5^0*0 + 0.5^1*0 + 0.5^2*100 + == 25.0\n",
      "0.5^0*0 + 0.5^1*100 + == 50.0\n",
      "0.5^0*100 + == 100.0\n"
     ]
    }
   ],
   "source": [
    "for j in range(4, -1, -1):\n",
    "    total_reward = 0\n",
    "    for pow, i in enumerate(rewards[j::-1]):\n",
    "        print(discount,\"^\",pow,\"*\",i, sep=\"\", end=\" + \")\n",
    "        total_reward += discount**pow * i\n",
    "    print(\"==\",total_reward)"
   ]
  },
  {
   "cell_type": "code",
   "execution_count": 20,
   "id": "d30775b4-abe7-4bd7-b69a-b2786e93f099",
   "metadata": {},
   "outputs": [
    {
     "name": "stdout",
     "output_type": "stream",
     "text": [
      "0.9^0*100 + 0.9^1*0 + 0.9^2*0 + 0.9^3*0 + 0.9^4*0 + 0.9^5*40 + == 123.6196\n",
      "0.9^0*0 + 0.9^1*0 + 0.9^2*0 + 0.9^3*0 + 0.9^4*40 + == 26.244\n",
      "0.9^0*0 + 0.9^1*0 + 0.9^2*0 + 0.9^3*40 + == 29.160000000000004\n",
      "0.9^0*0 + 0.9^1*0 + 0.9^2*40 + == 32.400000000000006\n",
      "0.9^0*0 + 0.9^1*40 + == 36.0\n",
      "0.9^0*40 + == 40.0\n"
     ]
    }
   ],
   "source": [
    "for j in range(0, 6):\n",
    "    total_reward = 0\n",
    "    for pow, i in enumerate(rewards[j:]):\n",
    "        print(discount,\"^\",pow,\"*\",i, sep=\"\", end=\" + \")\n",
    "        total_reward += discount**pow * i\n",
    "    print(\"==\",total_reward)"
   ]
  },
  {
   "cell_type": "code",
   "execution_count": null,
   "id": "e8e20072-a3f4-4454-ac08-6ce877931b38",
   "metadata": {},
   "outputs": [],
   "source": []
  }
 ],
 "metadata": {
  "kernelspec": {
   "display_name": "Python 3 (ipykernel)",
   "language": "python",
   "name": "python3"
  },
  "language_info": {
   "codemirror_mode": {
    "name": "ipython",
    "version": 3
   },
   "file_extension": ".py",
   "mimetype": "text/x-python",
   "name": "python",
   "nbconvert_exporter": "python",
   "pygments_lexer": "ipython3",
   "version": "3.11.5"
  }
 },
 "nbformat": 4,
 "nbformat_minor": 5
}
